{
 "cells": [
  {
   "cell_type": "code",
   "execution_count": 1,
   "metadata": {},
   "outputs": [
    {
     "data": {
      "text/markdown": [
       "**Vui lòng chuyển đổi sang Vnstock3** thế hệ mới (3.1.0) với câu lệnh: `pip install vnstock3 --upgrade`.\n",
       "**Từ 1/1/2025, vnstock3 sẽ được cài đặt khi sử dụng cú pháp** `pip install vnstock` **thay cho Vnstock Legacy** hiện tại.\n",
       "Xem chi tiết [chuyển đổi sang vnstock3](https://vnstocks.com/docs/tai-lieu/migration-chuyen-doi-sang-vnstock3).\n",
       "Phiên bản **Vnstock Legacy (0.2.9.2.3)** bạn đang sử dụng **sẽ không được nâng cấp thêm.**\n",
       "Từ 7/10/2024 Vnstock giới thiệu nhóm Facebook Cộng đồng Vnstock, tham gia thảo luận tại đây: https://www.facebook.com/groups/vnstock.official"
      ],
      "text/plain": [
       "<IPython.core.display.Markdown object>"
      ]
     },
     "metadata": {},
     "output_type": "display_data"
    }
   ],
   "source": [
    "import pandas as pd\n",
    "import vnstock\n",
    "from vnstock import *\n",
    "from datetime import datetime\n",
    "import numpy as np"
   ]
  },
  {
   "cell_type": "code",
   "execution_count": 2,
   "metadata": {},
   "outputs": [
    {
     "data": {
      "text/html": [
       "<div>\n",
       "<style scoped>\n",
       "    .dataframe tbody tr th:only-of-type {\n",
       "        vertical-align: middle;\n",
       "    }\n",
       "\n",
       "    .dataframe tbody tr th {\n",
       "        vertical-align: top;\n",
       "    }\n",
       "\n",
       "    .dataframe thead th {\n",
       "        text-align: right;\n",
       "    }\n",
       "</style>\n",
       "<table border=\"1\" class=\"dataframe\">\n",
       "  <thead>\n",
       "    <tr style=\"text-align: right;\">\n",
       "      <th></th>\n",
       "      <th>time</th>\n",
       "      <th>open</th>\n",
       "      <th>high</th>\n",
       "      <th>low</th>\n",
       "      <th>close</th>\n",
       "      <th>volume</th>\n",
       "      <th>ticker</th>\n",
       "    </tr>\n",
       "  </thead>\n",
       "  <tbody>\n",
       "    <tr>\n",
       "      <th>0</th>\n",
       "      <td>2024-11-19 09:00:00</td>\n",
       "      <td>25.85</td>\n",
       "      <td>25.85</td>\n",
       "      <td>25.85</td>\n",
       "      <td>25.85</td>\n",
       "      <td>1000</td>\n",
       "      <td>HPG</td>\n",
       "    </tr>\n",
       "    <tr>\n",
       "      <th>1</th>\n",
       "      <td>2024-11-19 09:30:00</td>\n",
       "      <td>25.65</td>\n",
       "      <td>25.65</td>\n",
       "      <td>25.65</td>\n",
       "      <td>25.65</td>\n",
       "      <td>100</td>\n",
       "      <td>HPG</td>\n",
       "    </tr>\n",
       "    <tr>\n",
       "      <th>2</th>\n",
       "      <td>2024-11-19 10:00:00</td>\n",
       "      <td>25.60</td>\n",
       "      <td>25.60</td>\n",
       "      <td>25.60</td>\n",
       "      <td>25.60</td>\n",
       "      <td>100</td>\n",
       "      <td>HPG</td>\n",
       "    </tr>\n",
       "    <tr>\n",
       "      <th>3</th>\n",
       "      <td>2024-11-19 10:30:00</td>\n",
       "      <td>25.60</td>\n",
       "      <td>25.60</td>\n",
       "      <td>25.60</td>\n",
       "      <td>25.60</td>\n",
       "      <td>300</td>\n",
       "      <td>HPG</td>\n",
       "    </tr>\n",
       "    <tr>\n",
       "      <th>4</th>\n",
       "      <td>2024-11-19 11:00:00</td>\n",
       "      <td>25.65</td>\n",
       "      <td>25.65</td>\n",
       "      <td>25.65</td>\n",
       "      <td>25.65</td>\n",
       "      <td>7300</td>\n",
       "      <td>HPG</td>\n",
       "    </tr>\n",
       "    <tr>\n",
       "      <th>5</th>\n",
       "      <td>2024-11-19 13:00:00</td>\n",
       "      <td>25.65</td>\n",
       "      <td>25.75</td>\n",
       "      <td>25.60</td>\n",
       "      <td>25.75</td>\n",
       "      <td>1397600</td>\n",
       "      <td>HPG</td>\n",
       "    </tr>\n",
       "    <tr>\n",
       "      <th>6</th>\n",
       "      <td>2024-11-19 13:30:00</td>\n",
       "      <td>25.70</td>\n",
       "      <td>25.75</td>\n",
       "      <td>25.55</td>\n",
       "      <td>25.55</td>\n",
       "      <td>1850900</td>\n",
       "      <td>HPG</td>\n",
       "    </tr>\n",
       "    <tr>\n",
       "      <th>7</th>\n",
       "      <td>2024-11-19 14:00:00</td>\n",
       "      <td>25.55</td>\n",
       "      <td>25.70</td>\n",
       "      <td>25.45</td>\n",
       "      <td>25.50</td>\n",
       "      <td>5142500</td>\n",
       "      <td>HPG</td>\n",
       "    </tr>\n",
       "    <tr>\n",
       "      <th>8</th>\n",
       "      <td>2024-11-19 14:30:00</td>\n",
       "      <td>25.50</td>\n",
       "      <td>25.50</td>\n",
       "      <td>25.45</td>\n",
       "      <td>25.45</td>\n",
       "      <td>1682300</td>\n",
       "      <td>HPG</td>\n",
       "    </tr>\n",
       "  </tbody>\n",
       "</table>\n",
       "</div>"
      ],
      "text/plain": [
       "                  time   open   high    low  close   volume ticker\n",
       "0  2024-11-19 09:00:00  25.85  25.85  25.85  25.85     1000    HPG\n",
       "1  2024-11-19 09:30:00  25.65  25.65  25.65  25.65      100    HPG\n",
       "2  2024-11-19 10:00:00  25.60  25.60  25.60  25.60      100    HPG\n",
       "3  2024-11-19 10:30:00  25.60  25.60  25.60  25.60      300    HPG\n",
       "4  2024-11-19 11:00:00  25.65  25.65  25.65  25.65     7300    HPG\n",
       "5  2024-11-19 13:00:00  25.65  25.75  25.60  25.75  1397600    HPG\n",
       "6  2024-11-19 13:30:00  25.70  25.75  25.55  25.55  1850900    HPG\n",
       "7  2024-11-19 14:00:00  25.55  25.70  25.45  25.50  5142500    HPG\n",
       "8  2024-11-19 14:30:00  25.50  25.50  25.45  25.45  1682300    HPG"
      ]
     },
     "execution_count": 2,
     "metadata": {},
     "output_type": "execute_result"
    }
   ],
   "source": [
    "df1 = stock_historical_data(symbol='HPG', start_date= '2024-11-19' , end_date= '2024-11-19' , resolution=\"30\", type=\"stock\", beautify=False, decor=False, source='DNSE')\n",
    "df1"
   ]
  }
 ],
 "metadata": {
  "kernelspec": {
   "display_name": "Python 3",
   "language": "python",
   "name": "python3"
  },
  "language_info": {
   "codemirror_mode": {
    "name": "ipython",
    "version": 3
   },
   "file_extension": ".py",
   "mimetype": "text/x-python",
   "name": "python",
   "nbconvert_exporter": "python",
   "pygments_lexer": "ipython3",
   "version": "3.8.10"
  }
 },
 "nbformat": 4,
 "nbformat_minor": 2
}
